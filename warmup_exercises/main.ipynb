{
 "cells": [
  {
   "cell_type": "code",
   "outputs": [],
   "source": [
    "import math\n",
    "import numpy as np\n",
    "import torch\n",
    "from torch import Tensor, nn, optim"
   ],
   "metadata": {
    "collapsed": false,
    "ExecuteTime": {
     "end_time": "2024-08-09T07:52:23.135567Z",
     "start_time": "2024-08-09T07:52:23.120118Z"
    }
   },
   "id": "57a1631b7a1a9060",
   "execution_count": 25
  },
  {
   "cell_type": "code",
   "outputs": [],
   "source": [
    "def polynomial_gen(polynomial_coefficients: list, size, noise_std=0.1) -> tuple[Tensor, Tensor]:\n",
    "    \"\"\"\n",
    "    生成 n 阶多项式数据\n",
    "    .. math:: y = \\\\sum_{i=0}^{n} \\\\frac{a_i}{i!} x^i + \\\\epsilon\n",
    "    :param polynomial_coefficients: a_i\n",
    "    :param size: 生成的数据集大小\n",
    "    :param noise_std: 多项式的噪声项\n",
    "    :return: 特征张量与标签张量的元组\n",
    "    \"\"\"\n",
    "    polynomial_coefficients = np.array(polynomial_coefficients)\n",
    "    orders = np.arange(len(polynomial_coefficients))\n",
    "\n",
    "    x = np.random.normal(size=(size, len(polynomial_coefficients)))\n",
    "    features = np.power(x, orders) / np.vectorize(math.factorial)(orders)\n",
    "    labels = features @ polynomial_coefficients\n",
    "    labels += np.random.normal(scale=noise_std, size=labels.shape)\n",
    "    return torch.from_numpy(features).to(torch.float32), torch.from_numpy(labels).to(torch.float32)"
   ],
   "metadata": {
    "collapsed": false,
    "ExecuteTime": {
     "end_time": "2024-08-09T08:02:34.290292Z",
     "start_time": "2024-08-09T08:02:34.284328Z"
    }
   },
   "id": "c746799b0402caa4",
   "execution_count": 38
  },
  {
   "cell_type": "code",
   "outputs": [],
   "source": [
    "coeffs = [5.0, 1.2, -3.4, 5.6]\n",
    "SIZE = 1000\n",
    "EPOCHS = 1000\n",
    "\n",
    "features, labels = polynomial_gen(coeffs, SIZE)"
   ],
   "metadata": {
    "collapsed": false,
    "ExecuteTime": {
     "end_time": "2024-08-09T08:02:36.032513Z",
     "start_time": "2024-08-09T08:02:36.028171Z"
    }
   },
   "id": "6f99a4fe67440051",
   "execution_count": 39
  },
  {
   "cell_type": "code",
   "outputs": [],
   "source": [
    "net = nn.Sequential(nn.Linear(in_features=len(coeffs), out_features=1, bias=False))\n",
    "net.apply(lambda m: nn.init.normal_(m.weight, mean=0, std=0.01) if isinstance(m, nn.Linear) else None)\n",
    "\n",
    "criterion = nn.MSELoss()\n",
    "optimizer = optim.SGD(net.parameters(), lr=0.01)"
   ],
   "metadata": {
    "collapsed": false,
    "ExecuteTime": {
     "end_time": "2024-08-09T08:02:38.714776Z",
     "start_time": "2024-08-09T08:02:38.708558Z"
    }
   },
   "id": "e33b951fe5531a0d",
   "execution_count": 40
  },
  {
   "cell_type": "code",
   "outputs": [
    {
     "data": {
      "text/plain": "[-0.0015493236714974046,\n -0.016542261466383934,\n 0.010300985537469387,\n 0.0016125075053423643]"
     },
     "execution_count": 65,
     "metadata": {},
     "output_type": "execute_result"
    }
   ],
   "source": [
    "net[0].weight.data.numpy().squeeze().tolist()"
   ],
   "metadata": {
    "collapsed": false,
    "ExecuteTime": {
     "end_time": "2024-08-09T08:11:13.501703Z",
     "start_time": "2024-08-09T08:11:13.495998Z"
    }
   },
   "id": "13427a5dee644c45",
   "execution_count": 65
  }
 ],
 "metadata": {
  "kernelspec": {
   "display_name": "Python 3",
   "language": "python",
   "name": "python3"
  },
  "language_info": {
   "codemirror_mode": {
    "name": "ipython",
    "version": 2
   },
   "file_extension": ".py",
   "mimetype": "text/x-python",
   "name": "python",
   "nbconvert_exporter": "python",
   "pygments_lexer": "ipython2",
   "version": "2.7.6"
  }
 },
 "nbformat": 4,
 "nbformat_minor": 5
}
